{
 "cells": [
  {
   "cell_type": "markdown",
   "id": "d82b6574-9ffb-4695-9a17-82eb96dd3488",
   "metadata": {},
   "source": [
    "# My first quantum circuit\n",
    "\n",
    "In this notebook, you will see how to write a quantum circuit in Qiskit and execute it on a simulator and a real IBMQ device."
   ]
  },
  {
   "cell_type": "markdown",
   "id": "e45d86dc-f97f-4cc6-9364-923858fed3bc",
   "metadata": {},
   "source": [
    "## Creating a quantum circuit"
   ]
  },
  {
   "cell_type": "code",
   "execution_count": 1,
   "id": "368499d1-67d0-4c2d-8bc4-dba8f546f1da",
   "metadata": {},
   "outputs": [],
   "source": [
    "# Import libraries and objects\n",
    "import numpy as np\n",
    "from qiskit import QuantumCircuit"
   ]
  },
  {
   "cell_type": "code",
   "execution_count": 2,
   "id": "ae6be87b-8052-441c-9159-9e2eca6cc905",
   "metadata": {},
   "outputs": [],
   "source": [
    "# Instantiate a quantum circuit object\n",
    "circuit = QuantumCircuit(2)\n",
    "\n",
    "# Add gates\n",
    "circuit.h(0) # Hadamard on qubit 0\n",
    "circuit.cx(0, 1) # CNOT between qubits 0 and 1\n",
    "circuit.measure_all() # Measurement"
   ]
  },
  {
   "cell_type": "code",
   "execution_count": 3,
   "id": "8fb5f2f9-79d7-42ab-881c-71e95d4a4b55",
   "metadata": {},
   "outputs": [
    {
     "data": {
      "image/png": "[encoded data removed]",
      "text/plain": [
       "<Figure size 417.879x204.68 with 1 Axes>"
      ]
     },
     "execution_count": 3,
     "metadata": {},
     "output_type": "execute_result"
    }
   ],
   "source": [
    "# Visualize the circuit\n",
    "circuit.draw('mpl')"
   ]
  },
  {
   "cell_type": "markdown",
   "id": "7703cd5a-0751-4982-a13a-41419f43aae6",
   "metadata": {},
   "source": [
    "## Inspecting the final state"
   ]
  },
  {
   "cell_type": "code",
   "execution_count": 4,
   "id": "6db2f018-65b9-43b8-bb3c-198bd50adbe6",
   "metadata": {},
   "outputs": [],
   "source": [
    "from qiskit.quantum_info import Operator"
   ]
  },
  {
   "cell_type": "code",
   "execution_count": 5,
   "id": "4fb5f115-d38b-41b0-a99d-32d6813d19a5",
   "metadata": {},
   "outputs": [
    {
     "name": "stdout",
     "output_type": "stream",
     "text": [
      "[[ 0.70710678+0.j  0.70710678+0.j  0.        +0.j  0.        +0.j]\n",
      " [ 0.        +0.j  0.        +0.j  0.70710678+0.j -0.70710678+0.j]\n",
      " [ 0.        +0.j  0.        +0.j  0.70710678+0.j  0.70710678+0.j]\n",
      " [ 0.70710678+0.j -0.70710678+0.j  0.        +0.j  0.        +0.j]]\n"
     ]
    }
   ],
   "source": [
    "# Create a circuit object without the final measurement (Operator only accepts those)\n",
    "circuit_without_mmt = circuit.remove_final_measurements(inplace=False)\n",
    "\n",
    "# Circuit as a single unitary matrix\n",
    "unitary = Operator(circuit_without_mmt)\n",
    "print(unitary.data)"
   ]
  },
  {
   "cell_type": "code",
   "execution_count": 6,
   "id": "4620fcf1-3419-4538-9db2-3f362fb2d77a",
   "metadata": {},
   "outputs": [
    {
     "name": "stdout",
     "output_type": "stream",
     "text": [
      "[0.70710678+0.j 0.        +0.j 0.        +0.j 0.70710678+0.j]\n"
     ]
    }
   ],
   "source": [
    "# Initial state is |0> = 1*|00> + 0*|01> + 0*|10> + 0*|11> -> [1, 0, 0, 0]\n",
    "initial_state = np.array([1., 0., 0., 0.], dtype=np.complex128)\n",
    "\n",
    "# Compute the final state through matrix multiplication\n",
    "final_state = np.dot(unitary, initial_state)\n",
    "print(final_state)"
   ]
  },
  {
   "cell_type": "markdown",
   "id": "78fdf32e-4584-4931-8a84-2ba2b648e04e",
   "metadata": {},
   "source": [
    "The final state is $\\frac{1}{\\sqrt{2}} (|00\\rangle + |11\\rangle)$, which is consistent with the quantum operation\n",
    "\n",
    "$C_1^0[X]H_0|00\\rangle = C_1^0[X] \\left[|0\\rangle \\frac{1}{\\sqrt{2}} (|0\\rangle + |1\\rangle)\\right] = \\frac{1}{\\sqrt{2}} (|00\\rangle + |11\\rangle).$\n"
   ]
  },
  {
   "cell_type": "markdown",
   "id": "4b790e52-c266-4e01-8c55-5b09f04ab6c7",
   "metadata": {},
   "source": [
    "## Executing the quantum circuit (simulator)\n",
    "\n",
    "In Qiskit, entities that execute quantum circuits (simulators and real quantum devices) are referred to as \"backends.\" Circuits must be \"transpiled\" first into a form executable by the individual backends. Minimally speaking, transpilation involves decomposition of multi-qubit gates into single- and double-qubit gates, insertion of SWAP gates to ensure that all two-qubit gates act on physically connected qubits, and trasnlation of arbitrary single-qubit gates into products of device-specific \"basis gates.\" For a simulator backend, the last two steps are not necessary (the simulator corresponds to an ideal device with all-to-all qubit connectivity and an infinitely large set of basis gates), but we do go through the transpilation process nevertheless."
   ]
  },
  {
   "cell_type": "code",
   "execution_count": 7,
   "id": "607679a2-0a9a-4438-98c0-46391338b835",
   "metadata": {},
   "outputs": [],
   "source": [
    "from qiskit import Aer, transpile\n",
    "from qiskit.visualization import plot_histogram"
   ]
  },
  {
   "cell_type": "code",
   "execution_count": 8,
   "id": "14cfa1ab-18f7-465a-b97c-fc0ee53e045e",
   "metadata": {},
   "outputs": [
    {
     "name": "stdout",
     "output_type": "stream",
     "text": [
      "{'11': 4989, '00': 5011}\n"
     ]
    }
   ],
   "source": [
    "# Get the simulator object\n",
    "simulator = Aer.get_backend('qasm_simulator')\n",
    "\n",
    "# Transpile the circuit into a form executable by the simulator\n",
    "circuit_svsim = transpile(circuit, backend=simulator)\n",
    "\n",
    "# Execute the circuit for 10k times\n",
    "sim_job = simulator.run(circuit_svsim, shots=10000)\n",
    "\n",
    "# Retrieve the result from the job object\n",
    "sim_result = sim_job.result()\n",
    "\n",
    "# Inspect the histogram data\n",
    "print(sim_result.get_counts())"
   ]
  },
  {
   "cell_type": "markdown",
   "id": "b034460c-6079-44ed-932e-3f70a2e9b956",
   "metadata": {},
   "source": [
    "`backend.run()` returns a job object, `job.result()` returns a result object, and `result.get_counts()` returns a Python dict whose keys are the binary strings representing the results of the 0/1 measurement of the qubits, and the values are the number of circuit \"shots\" that yielded the respective measurement results. Note that for a local simulation like this, the job-result infrastructure is a bit of an overkill (the job executes and returns ~immediately). The steps are there so that the same program can be run on real devices by just swapping the backend object."
   ]
  },
  {
   "cell_type": "code",
   "execution_count": 9,
   "id": "39c03d27-0111-4996-8114-6ad52728bd61",
   "metadata": {},
   "outputs": [
    {
     "data": {
      "image/png": "[encoded data removed]",
      "text/plain": [
       "<Figure size 504x360 with 1 Axes>"
      ]
     },
     "execution_count": 9,
     "metadata": {},
     "output_type": "execute_result"
    }
   ],
   "source": [
    "# Plot an actual histogram\n",
    "plot_histogram(sim_result.get_counts())"
   ]
  },
  {
   "cell_type": "markdown",
   "id": "2cd4145c-624f-4103-8505-fdba5e7a2e61",
   "metadata": {},
   "source": [
    "## Executing the quantum circuit (IBMQ device)"
   ]
  },
  {
   "cell_type": "code",
   "execution_count": 10,
   "id": "45341576-5ccc-467f-94b2-e9bb3a8ed650",
   "metadata": {},
   "outputs": [],
   "source": [
    "from qiskit import IBMQ\n",
    "from qiskit.providers.ibmq import least_busy\n",
    "from qiskit.tools import job_monitor"
   ]
  },
  {
   "cell_type": "code",
   "execution_count": 11,
   "id": "64e91101-033c-4fcd-8c11-1f9d81ff710c",
   "metadata": {},
   "outputs": [
    {
     "data": {
      "text/plain": [
       "<AccountProvider for IBMQ(hub='ibm-q', group='open', project='main')>"
      ]
     },
     "execution_count": 11,
     "metadata": {},
     "output_type": "execute_result"
    }
   ],
   "source": [
    "# Activate communication with the IBM Quantum server\n",
    "IBMQ.load_account()"
   ]
  },
  {
   "cell_type": "code",
   "execution_count": 12,
   "id": "4bda1400-5729-465f-a3dd-3025eea251b5",
   "metadata": {},
   "outputs": [
    {
     "name": "stdout",
     "output_type": "stream",
     "text": [
      "Jobs will run on ibmq_quito\n"
     ]
    }
   ],
   "source": [
    "# IBMQ provider manages access to various backends\n",
    "provider = IBMQ.get_provider(hub='ibm-q', group='open', project='main')\n",
    "\n",
    "# Filter function to choose an operational real-device backend with at least two qubits\n",
    "def backend_filter(backend):\n",
    "    config = backend.configuration()\n",
    "    status = backend.status()\n",
    "    return (not config.simulator) and (config.n_qubits >= 2) and status.operational\n",
    "\n",
    "# List of backends satisfying the requirement\n",
    "available_backends = provider.backends(filters=backend_filter)\n",
    "\n",
    "# Choose the least busy backend among the available ones\n",
    "backend = least_busy(available_backends)\n",
    "\n",
    "print('Jobs will run on', backend.name())"
   ]
  },
  {
   "cell_type": "code",
   "execution_count": 13,
   "id": "6c8afaa3-3789-45b2-bb7f-19a0a396ba37",
   "metadata": {},
   "outputs": [
    {
     "name": "stdout",
     "output_type": "stream",
     "text": [
      "Job Status: job has successfully run\n"
     ]
    }
   ],
   "source": [
    "# Transpile the circuit for the backend\n",
    "circuit_ibmq = transpile(circuit, backend=backend)\n",
    "\n",
    "# Submit the circuit job to the backend\n",
    "ibmq_job = backend.run(circuit_ibmq, shots=10000)\n",
    "\n",
    "# This time, the job will not return immediately. Monitor its status\n",
    "job_monitor(ibmq_job)"
   ]
  },
  {
   "cell_type": "code",
   "execution_count": 14,
   "id": "780b42d4-74f6-4eae-ac2c-93e86b378925",
   "metadata": {},
   "outputs": [
    {
     "data": {
      "image/png": "[encoded data removed]",
      "text/plain": [
       "<Figure size 504x360 with 1 Axes>"
      ]
     },
     "execution_count": 14,
     "metadata": {},
     "output_type": "execute_result"
    }
   ],
   "source": [
    "# Retrieve the result from the job object\n",
    "ibmq_result = ibmq_job.result()\n",
    "\n",
    "# Plot the histogram\n",
    "plot_histogram(ibmq_result.get_counts())"
   ]
  },
  {
   "cell_type": "markdown",
   "id": "17e47d2d-28da-4dc1-8d40-96fd63714311",
   "metadata": {},
   "source": [
    "Notice the existence of the \"leakage\" into 01 and 10 states; this is due to the hardware (gate and measurement) errors."
   ]
  },
  {
   "cell_type": "markdown",
   "id": "eb080445-a26d-4491-b680-68c4254684c6",
   "metadata": {},
   "source": [
    "## Making the whole thing a little more interesting\n",
    "\n",
    "A hallmark of the Bell state like $|00\\rangle + |11\\rangle$ is that it has no preferred single-qubit basis. Indeed, if you define\n",
    "\n",
    "$|\\theta\\rangle := \\cos\\frac{\\theta}{2} |0\\rangle + \\sin\\frac{\\theta}{2} |1\\rangle$\n",
    "\n",
    "and\n",
    "\n",
    "$|\\bar{\\theta}\\rangle := -\\sin\\frac{\\theta}{2} |0\\rangle + \\cos\\frac{\\theta}{2} |1\\rangle,$\n",
    "\n",
    "then\n",
    "\n",
    "$\\frac{1}{\\sqrt{2}} (|00\\rangle + |11\\rangle) = \\frac{1}{\\sqrt{2}} (|\\theta\\theta\\rangle + |\\bar{\\theta}\\bar{\\theta}\\rangle),$\n",
    "\n",
    "implying that a measurement in the $\\theta$-$\\bar{\\theta}$ basis will also yield a 0.5:0.5 result.\n",
    "\n",
    "To test this, we need to define a circuit with projective measurements on non-Z axes. However, the measurement operator only works in the Z axis; this stems from the fact that the qubits are physically realized by two-level systems which actually have a preferred basis (energy eigenstates). We therefore instead apply qubit rotation gates so that the Z measurements become equivalent to measurements in the $\\theta$/$\\bar{\\theta}$ measurements."
   ]
  },
  {
   "cell_type": "code",
   "execution_count": 15,
   "id": "cdfdfb96-d0f4-486d-a765-ca94b6851015",
   "metadata": {},
   "outputs": [],
   "source": [
    "from qiskit.circuit import Parameter"
   ]
  },
  {
   "cell_type": "code",
   "execution_count": 16,
   "id": "b8df7472-21d2-4fa3-8a6f-b54e8ad58c8a",
   "metadata": {},
   "outputs": [
    {
     "name": "stderr",
     "output_type": "stream",
     "text": [
      "/usr/local/lib/python3.8/dist-packages/sympy/core/expr.py:2451: SymPyDeprecationWarning: \n",
      "\n",
      "expr_free_symbols method has been deprecated since SymPy 1.9. See\n",
      "https://github.com/sympy/sympy/issues/21494 for more info.\n",
      "\n",
      "  SymPyDeprecationWarning(feature=\"expr_free_symbols method\",\n"
     ]
    },
    {
     "data": {
      "image/png": "[encoded data removed]",
      "text/plain": [
       "<Figure size 538.279x204.68 with 1 Axes>"
      ]
     },
     "execution_count": 16,
     "metadata": {},
     "output_type": "execute_result"
    }
   ],
   "source": [
    "# Copy the original circuit without the measurement\n",
    "theta_circuit = circuit_without_mmt.copy()\n",
    "\n",
    "# Placeholder angle theta whose value can be set later\n",
    "theta = Parameter('theta')\n",
    "\n",
    "# Apply Ry gates to \"change the measurement axes\"\n",
    "theta_circuit.ry(-theta, [0, 1]) # Gates can be applied to multiple qubits in one function call\n",
    "\n",
    "# Add the measurement operators and draw\n",
    "theta_circuit.measure_all()\n",
    "theta_circuit.draw('mpl')"
   ]
  },
  {
   "cell_type": "code",
   "execution_count": 17,
   "id": "18ee3032-92ee-464d-9697-7c497da885a1",
   "metadata": {},
   "outputs": [],
   "source": [
    "# Define ten circuits with random theta values\n",
    "circuits = []\n",
    "for _ in range(10):\n",
    "    random_angle = np.random.rand() * 2. * np.pi\n",
    "    circuits.append(theta_circuit.bind_parameters({theta: random_angle}))"
   ]
  },
  {
   "cell_type": "code",
   "execution_count": 18,
   "id": "67266796-28f5-4fe4-8e2e-be51e522d42d",
   "metadata": {},
   "outputs": [
    {
     "data": {
      "image/png": "[encoded data removed]",
      "text/plain": [
       "<Figure size 598.479x204.68 with 1 Axes>"
      ]
     },
     "execution_count": 18,
     "metadata": {},
     "output_type": "execute_result"
    }
   ],
   "source": [
    "circuits[0].draw('mpl')"
   ]
  },
  {
   "cell_type": "code",
   "execution_count": 19,
   "id": "d16fd78c-5bfc-4ac7-9af3-2314a76922f3",
   "metadata": {},
   "outputs": [
    {
     "data": {
      "image/png": "[encoded data removed]",
      "text/plain": [
       "<Figure size 598.479x204.68 with 1 Axes>"
      ]
     },
     "execution_count": 19,
     "metadata": {},
     "output_type": "execute_result"
    }
   ],
   "source": [
    "circuits[1].draw('mpl')"
   ]
  },
  {
   "cell_type": "code",
   "execution_count": 20,
   "id": "18e22858-abf4-480c-b4c7-5038ccfa70e5",
   "metadata": {},
   "outputs": [
    {
     "name": "stdout",
     "output_type": "stream",
     "text": [
      "Job Status: job has successfully run\n"
     ]
    }
   ],
   "source": [
    "# Transpile the circuits for the backend (tranpile() also accepts a list of circuits)\n",
    "circuits_ibmq = transpile(circuits, backend=backend)\n",
    "\n",
    "# Submit the job to execute 10k shots x 10 circuits\n",
    "ibmq_job_theta = backend.run(circuits_ibmq, shots=10000)\n",
    "\n",
    "# Monitor the job status\n",
    "job_monitor(ibmq_job_theta)"
   ]
  },
  {
   "cell_type": "code",
   "execution_count": 24,
   "id": "61dbf167-f513-4b42-8768-7e599c4b6617",
   "metadata": {},
   "outputs": [],
   "source": [
    "# Retrieve the result from the job object\n",
    "ibmq_result = ibmq_job_theta.result()"
   ]
  },
  {
   "cell_type": "markdown",
   "id": "827db0ca-29ff-4430-9431-b29b65748d24",
   "metadata": {},
   "source": [
    "This time, the result object contains the result for 10 circuits. We therefore need to give the circuit number to `get_counts()` to specify whose result we want."
   ]
  },
  {
   "cell_type": "code",
   "execution_count": 25,
   "id": "abe581d7-f7a3-4d1e-989d-f0ac61c13377",
   "metadata": {},
   "outputs": [
    {
     "data": {
      "image/png": "[encoded data removed]",
      "text/plain": [
       "<Figure size 504x360 with 1 Axes>"
      ]
     },
     "execution_count": 25,
     "metadata": {},
     "output_type": "execute_result"
    }
   ],
   "source": [
    "# Plot the histogram of the 0th circuit\n",
    "plot_histogram(ibmq_result.get_counts(0))"
   ]
  },
  {
   "cell_type": "code",
   "execution_count": 26,
   "id": "46e0a25a-454c-4fe7-bb14-642aa04c752b",
   "metadata": {},
   "outputs": [
    {
     "data": {
      "image/png": "[encoded data removed]",
      "text/plain": [
       "<Figure size 504x360 with 1 Axes>"
      ]
     },
     "execution_count": 26,
     "metadata": {},
     "output_type": "execute_result"
    }
   ],
   "source": [
    "# Plot the histogram of the 8th circuit\n",
    "plot_histogram(ibmq_result.get_counts(8))"
   ]
  },
  {
   "cell_type": "markdown",
   "id": "23cac044-81c1-48ad-816f-0fd2319424ac",
   "metadata": {},
   "source": [
    "You can try `plot_histogram` for all 10 circuits. The result should always be ~0.5:0.5 on 00 and 11 and some residual error-induced counts in 01 and 10. You can also try changing the measurement axes between the two qubits and perform a CHSH-type experiment with this circuit."
   ]
  }
 ],
 "metadata": {
  "kernelspec": {
   "display_name": "Python 3 (ipykernel)",
   "language": "python",
   "name": "python3"
  },
  "language_info": {
   "codemirror_mode": {
    "name": "ipython",
    "version": 3
   },
   "file_extension": ".py",
   "mimetype": "text/x-python",
   "name": "python",
   "nbconvert_exporter": "python",
   "pygments_lexer": "ipython3",
   "version": "3.8.10"
  }
 },
 "nbformat": 4,
 "nbformat_minor": 5
}
