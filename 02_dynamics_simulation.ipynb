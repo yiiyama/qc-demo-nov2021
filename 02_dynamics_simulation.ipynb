{
 "cells": [
  {
   "cell_type": "markdown",
   "id": "99855f44-1a50-402b-817b-bb5782924ad3",
   "metadata": {},
   "source": [
    "# Dynamics simulation of the Heisenberg model\n",
    "\n",
    "In this notebook, you will write and execute a quantum circuit for the dynamics simulation of the 5-site Heisenberg model.\n",
    "\n",
    "## Heisenberg model (fixed boundary condition)\n",
    "\n",
    "Hamiltonian:\n",
    "\n",
    "$H = -J \\sum_{j=0}^{n-2} (X_{j} X_{j+1} + Y_{j} Y_{j+1} + Z_{j} Z_{j+1})$\n",
    "\n",
    "Time evolution operator:\n",
    "\n",
    "$U(T) = \\exp\\left(\\frac{i \\omega T}{2} \\sum_{j=0}^{n-2} (X_{j} X_{j+1} + Y_{j} Y_{j+1} + Z_{j} Z_{j+1})\\right)$\n",
    "\n",
    "where $\\omega = 2J / \\hbar$.\n",
    "\n",
    "Suzuki-Trotter decomposition:\n",
    "\n",
    "$U(T) = \\prod_{N\\Delta t = T} \\prod_{j=0}^{n-2} \\exp\\left(\\frac{i \\omega \\Delta t}{2} X_{j} X_{j+1} \\right) \\exp\\left(\\frac{i \\omega \\Delta t}{2} Y_{j} Y_{j+1} \\right) \\exp\\left(\\frac{i \\omega \\Delta t}{2} Z_{j} Z_{j+1} \\right) + \\mathcal{O}\\left((\\omega \\Delta t)^2 \\right)$"
   ]
  },
  {
   "cell_type": "markdown",
   "id": "39e67f56-4f89-4821-bc2d-9220663c1cd9",
   "metadata": {},
   "source": [
    "## Implementing the evolution circuit"
   ]
  },
  {
   "cell_type": "code",
   "execution_count": 1,
   "id": "dc4e88f7-1c43-4a30-bf33-5c57527aa4c6",
   "metadata": {},
   "outputs": [],
   "source": [
    "import numpy as np\n",
    "from qiskit import QuantumCircuit"
   ]
  },
  {
   "cell_type": "code",
   "execution_count": 2,
   "id": "c8bd284a-783c-4d40-a560-eeaf8d1b3155",
   "metadata": {},
   "outputs": [],
   "source": [
    "# Define the simulation parameters\n",
    "num_sites = 5 # Number of spins\n",
    "num_steps = 8 # Number of Trotter time steps\n",
    "omegadt = 0.1 # Value of omega Delta t"
   ]
  },
  {
   "cell_type": "code",
   "execution_count": 3,
   "id": "a59ae68c-90e5-47b2-8364-56b3195c80a7",
   "metadata": {},
   "outputs": [],
   "source": [
    "circuits = []\n",
    "\n",
    "circ = QuantumCircuit(num_sites)\n",
    "\n",
    "# Initial state: spin 0 pointing towards +X direction\n",
    "circ.h(0)\n",
    "\n",
    "# Make a copy of the circuit before any time evolution\n",
    "snapshot_circuit = circ.measure_all(inplace=False)\n",
    "circuits.append(snapshot_circuit)\n",
    "\n",
    "# Repeat the small-time evolution for num_steps times\n",
    "for _ in range(num_steps):\n",
    "    for j in range(num_sites - 1):\n",
    "        # exp(i omegadt / 2 * ZZ)\n",
    "        circ.cx(j, j + 1)\n",
    "        circ.rz(-omegadt, j + 1)\n",
    "        circ.cx(j, j + 1)\n",
    "        \n",
    "        # exp(i omegadt / 2 * XX)\n",
    "        circ.h([j, j + 1])\n",
    "        circ.cx(j, j + 1)\n",
    "        circ.rz(-omegadt, j + 1)\n",
    "        circ.cx(j, j + 1)        \n",
    "        circ.h([j, j + 1])\n",
    "        \n",
    "        # exp(i omegadt / 2 * YY)\n",
    "        circ.rz(-np.pi / 2., [j, j + 1])\n",
    "        circ.h([j, j + 1])\n",
    "        circ.cx(j, j + 1)\n",
    "        circ.rz(-omegadt, j + 1)\n",
    "        circ.cx(j, j + 1)        \n",
    "        circ.h([j, j + 1])\n",
    "        circ.rz(np.pi / 2., [j, j + 1])\n",
    "\n",
    "    # Make a copy of the circuit at this step with measurement operators\n",
    "    snapshot_circuit = circ.measure_all(inplace=False)\n",
    "    circuits.append(snapshot_circuit)"
   ]
  },
  {
   "cell_type": "markdown",
   "id": "0732f6ef-5589-4837-b2b8-30027e63fd7a",
   "metadata": {},
   "source": [
    "## Execute the circuits on the simulator"
   ]
  },
  {
   "cell_type": "code",
   "execution_count": 4,
   "id": "c5582e5f-3c4e-4fe2-be81-363915835da2",
   "metadata": {},
   "outputs": [],
   "source": [
    "from qiskit import transpile, Aer, IBMQ"
   ]
  },
  {
   "cell_type": "code",
   "execution_count": 5,
   "id": "ae314e5a-2e81-4840-a277-54d58ab706e0",
   "metadata": {},
   "outputs": [],
   "source": [
    "simulator = Aer.get_backend('qasm_simulator')"
   ]
  },
  {
   "cell_type": "code",
   "execution_count": 6,
   "id": "5ca03509-4fce-4a57-b3f9-953624090b10",
   "metadata": {},
   "outputs": [],
   "source": [
    "sim_circuits = transpile(circuits, backend=simulator)\n",
    "sim_job = simulator.run(sim_circuits, shots=10000)\n",
    "sim_counts_list = sim_job.result().get_counts()"
   ]
  },
  {
   "cell_type": "markdown",
   "id": "3b3e936a-6bbe-48e6-be18-c0bb80e7ef96",
   "metadata": {},
   "source": [
    "## Plot the results"
   ]
  },
  {
   "cell_type": "code",
   "execution_count": 7,
   "id": "6f79fa9b-5ae2-4318-b6fe-db2abf4ed8c4",
   "metadata": {},
   "outputs": [],
   "source": [
    "# Original modules included in this repo\n",
    "from hamiltonian import make_hamiltonian\n",
    "from dynamics import plot_spins"
   ]
  },
  {
   "cell_type": "code",
   "execution_count": 8,
   "id": "abd3eb63-11af-4880-a6ce-e2a35bdd44c6",
   "metadata": {},
   "outputs": [
    {
     "data": {
      "image/png": "[encoded data removed]",
      "text/plain": [
       "<Figure size 432x288 with 1 Axes>"
      ]
     },
     "metadata": {
      "needs_background": "light"
     },
     "output_type": "display_data"
    }
   ],
   "source": [
    "# Construct the numerical Hamiltonian matrix from a list of Pauli operators\n",
    "paulis = list()\n",
    "for j in range(num_sites - 1):\n",
    "    paulis.append(list('x' if k in (j, j + 1) else 'i' for k in range(num_sites)))\n",
    "    paulis.append(list('y' if k in (j, j + 1) else 'i' for k in range(num_sites)))            \n",
    "    paulis.append(list('z' if k in (j, j + 1) else 'i' for k in range(num_sites)))\n",
    "\n",
    "hamiltonian = make_hamiltonian(paulis)\n",
    "\n",
    "# Express the initial state as a state vector\n",
    "initial_state = np.zeros(2 ** num_sites, dtype=np.complex128)\n",
    "initial_state[0:2] = np.sqrt(0.5)\n",
    "\n",
    "plot_spins(sim_counts_list, num_sites, omegadt, hamiltonian=hamiltonian, initial_state=initial_state)"
   ]
  },
  {
   "cell_type": "markdown",
   "id": "24d6a105-ff3b-4ccf-8e5d-23e701b076cd",
   "metadata": {},
   "source": [
    "## Execute the circuits on an IBMQ device"
   ]
  },
  {
   "cell_type": "code",
   "execution_count": 9,
   "id": "a6000fe5-3e7d-4c3a-8ec8-52ed553aa4ce",
   "metadata": {},
   "outputs": [],
   "source": [
    "from qiskit import IBMQ\n",
    "from qiskit.providers.ibmq import least_busy\n",
    "from qiskit.tools import job_monitor"
   ]
  },
  {
   "cell_type": "code",
   "execution_count": 10,
   "id": "6d84f735-bb6d-4bf6-8139-d391e1f9ecaf",
   "metadata": {},
   "outputs": [
    {
     "data": {
      "text/plain": [
       "<AccountProvider for IBMQ(hub='ibm-q', group='open', project='main')>"
      ]
     },
     "execution_count": 10,
     "metadata": {},
     "output_type": "execute_result"
    }
   ],
   "source": [
    "IBMQ.load_account()"
   ]
  },
  {
   "cell_type": "code",
   "execution_count": 11,
   "id": "5d92c229-3d91-4d58-8bc9-548ce877d5a4",
   "metadata": {},
   "outputs": [
    {
     "name": "stdout",
     "output_type": "stream",
     "text": [
      "Jobs will run on ibmq_lima\n"
     ]
    }
   ],
   "source": [
    "# IBMQ provider manages access to various backends\n",
    "provider = IBMQ.get_provider(hub='ibm-q', group='open', project='main')\n",
    "\n",
    "# Filter function to choose an operational real-device backend with at least two qubits\n",
    "def backend_filter(backend):\n",
    "    config = backend.configuration()\n",
    "    status = backend.status()\n",
    "    return (not config.simulator) and (config.n_qubits >= 5) and status.operational\n",
    "\n",
    "# List of backends satisfying the requirement\n",
    "available_backends = provider.backends(filters=backend_filter)\n",
    "\n",
    "# Choose the least busy backend among the available ones\n",
    "backend = least_busy(available_backends)\n",
    "\n",
    "print('Jobs will run on', backend.name())"
   ]
  },
  {
   "cell_type": "code",
   "execution_count": 12,
   "id": "40c7af5a-bc33-49c2-a8bd-5d30581a4a77",
   "metadata": {},
   "outputs": [
    {
     "name": "stdout",
     "output_type": "stream",
     "text": [
      "Job Status: job has successfully run\n"
     ]
    }
   ],
   "source": [
    "ibmq_circuits = transpile(circuits, backend=backend)\n",
    "ibmq_job = backend.run(ibmq_circuits, shots=10000)\n",
    "job_monitor(ibmq_job)"
   ]
  },
  {
   "cell_type": "code",
   "execution_count": 13,
   "id": "8ed60c7e-7b5a-4450-a8a5-692b599d249c",
   "metadata": {},
   "outputs": [
    {
     "data": {
      "image/png": "[encoded data removed]",
      "text/plain": [
       "<Figure size 432x288 with 1 Axes>"
      ]
     },
     "metadata": {
      "needs_background": "light"
     },
     "output_type": "display_data"
    }
   ],
   "source": [
    "counts_list = ibmq_job.result().get_counts()\n",
    "plot_spins(counts_list, num_sites, omegadt, hamiltonian=hamiltonian, initial_state=initial_state)"
   ]
  }
 ],
 "metadata": {
  "kernelspec": {
   "display_name": "Python 3 (ipykernel)",
   "language": "python",
   "name": "python3"
  },
  "language_info": {
   "codemirror_mode": {
    "name": "ipython",
    "version": 3
   },
   "file_extension": ".py",
   "mimetype": "text/x-python",
   "name": "python",
   "nbconvert_exporter": "python",
   "pygments_lexer": "ipython3",
   "version": "3.8.10"
  }
 },
 "nbformat": 4,
 "nbformat_minor": 5
}
